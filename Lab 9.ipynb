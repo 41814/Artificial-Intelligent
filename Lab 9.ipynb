{
  "nbformat": 4,
  "nbformat_minor": 0,
  "metadata": {
    "colab": {
      "provenance": []
    },
    "kernelspec": {
      "name": "python3",
      "display_name": "Python 3"
    },
    "language_info": {
      "name": "python"
    }
  },
  "cells": [
    {
      "cell_type": "code",
      "execution_count": null,
      "metadata": {
        "id": "4YmIlo_Jf0_9"
      },
      "outputs": [],
      "source": []
    },
    {
      "cell_type": "code",
      "source": [
        "# Q#1"
      ],
      "metadata": {
        "id": "sayPtYTTjdWV"
      },
      "execution_count": null,
      "outputs": []
    },
    {
      "cell_type": "code",
      "source": [
        "from collections import deque\n",
        "\n",
        "def bfs_shortest_path(graph, start_node, goal_node):\n",
        "    # Dictionary to keep track of visited nodes and their predecessors\n",
        "    visited = {start_node: None}\n",
        "    queue = deque([start_node])\n",
        "\n",
        "    # Perform BFS\n",
        "    while queue:\n",
        "        current_node = queue.popleft()\n",
        "\n",
        "        # Check if we've reached the goal node\n",
        "        if current_node == goal_node:\n",
        "            # Reconstruct the shortest path\n",
        "            path = []\n",
        "            while current_node is not None:\n",
        "                path.append(current_node)\n",
        "                current_node = visited[current_node]\n",
        "            path.reverse()  # Reverse to get the path from start to goal\n",
        "            return path\n",
        "\n",
        "        # Visit all neighbors\n",
        "        for neighbor in graph[current_node]:\n",
        "            if neighbor not in visited:\n",
        "                visited[neighbor] = current_node  # Mark predecessor\n",
        "                queue.append(neighbor)\n",
        "\n",
        "    # If the goal_node is not reachable\n",
        "    return None\n",
        "\n",
        "# Graph input\n",
        "graph = {\n",
        "    \"A\": [\"B\", \"C\", \"H\"],\n",
        "    \"B\": [\"A\"],\n",
        "    \"C\": [\"A\", \"D\"],\n",
        "    \"D\": [\"C\", \"E\", \"F\"],\n",
        "    \"E\": [\"D\", \"G\", \"H\"],\n",
        "    \"F\": [\"D\", \"G\"],\n",
        "    \"G\": [\"E\", \"F\"],\n",
        "    \"H\": [\"A\", \"E\"]\n",
        "}\n",
        "\n",
        "# Example usage\n",
        "start_node = \"A\"\n",
        "goal_node = \"G\"\n",
        "shortest_path = bfs_shortest_path(graph, start_node, goal_node)\n",
        "\n",
        "if shortest_path:\n",
        "    print(f\"The shortest path from {start_node} to {goal_node} is: {' -> '.join(shortest_path)}\")\n",
        "else:\n",
        "    print(f\"No path found from {start_node} to {goal_node}.\")\n"
      ],
      "metadata": {
        "colab": {
          "base_uri": "https://localhost:8080/"
        },
        "id": "nExPUqwwf7NN",
        "outputId": "abc50e92-1e7c-4fcb-ed84-9488544bb83f"
      },
      "execution_count": 5,
      "outputs": [
        {
          "output_type": "stream",
          "name": "stdout",
          "text": [
            "The shortest path from A to G is: A -> H -> E -> G\n"
          ]
        }
      ]
    },
    {
      "cell_type": "code",
      "source": [
        "# Q#2"
      ],
      "metadata": {
        "id": "SJv1MOVejhgb"
      },
      "execution_count": null,
      "outputs": []
    },
    {
      "cell_type": "code",
      "source": [
        "class Graph:\n",
        "    def __init__(self):\n",
        "        self.graph = {}\n",
        "\n",
        "    def add_edge(self, u, v):\n",
        "        if u not in self.graph:\n",
        "            self.graph[u] = []\n",
        "        if v not in self.graph:\n",
        "            self.graph[v] = []\n",
        "        self.graph[u].append(v)\n",
        "        self.graph[v].append(u)  # For undirected graph\n",
        "\n",
        "    def dfs_shortest_path(self, start, goal):\n",
        "        visited = {start: None}\n",
        "        path = []\n",
        "        self._dfs_helper(start, goal, visited, path)\n",
        "\n",
        "        if not path:\n",
        "            return None  # No path found\n",
        "        else:\n",
        "            return self.reconstruct_path(start, goal, visited)\n",
        "\n",
        "    def _dfs_helper(self, node, goal, visited, path):\n",
        "        if node == goal:\n",
        "            path.append(node)\n",
        "            return True\n",
        "\n",
        "        for neighbor in self.graph[node]:\n",
        "            if neighbor not in visited:\n",
        "                visited[neighbor] = node  # Mark predecessor\n",
        "                if self._dfs_helper(neighbor, goal, visited, path):\n",
        "                    path.append(node)\n",
        "                    return True\n",
        "\n",
        "        return False\n",
        "\n",
        "    def reconstruct_path(self, start, goal, visited):\n",
        "        path = []\n",
        "        current_node = goal\n",
        "        while current_node is not None:\n",
        "            path.append(current_node)\n",
        "            current_node = visited[current_node]\n",
        "        path.reverse()  # Reverse to get the path from start to goal\n",
        "        return path\n",
        "\n",
        "# Create the graph and perform DFS\n",
        "if __name__ == \"__main__\":\n",
        "    g = Graph()\n",
        "    g.add_edge('A', 'B')\n",
        "    g.add_edge('A', 'C')\n",
        "    g.add_edge('A', 'H')\n",
        "    g.add_edge('C', 'D')\n",
        "    g.add_edge('D', 'E')\n",
        "    g.add_edge('D', 'F')\n",
        "    g.add_edge('E', 'G')\n",
        "    g.add_edge('E', 'H')\n",
        "    g.add_edge('F', 'G')\n",
        "\n",
        "    start_node = 'A'\n",
        "    goal_node = 'G'\n",
        "    shortest_path = g.dfs_shortest_path(start_node, goal_node)\n",
        "\n",
        "    if shortest_path:\n",
        "        print(f\"The shortest path from {start_node} to {goal_node} is: {' -> '.join(shortest_path)}\")\n",
        "    else:\n",
        "        print(f\"No path found from {start_node} to {goal_node}.\")\n"
      ],
      "metadata": {
        "colab": {
          "base_uri": "https://localhost:8080/"
        },
        "id": "3mZpXNvai5Wr",
        "outputId": "21f73738-2919-4fa4-ece1-6dd703e7d435"
      },
      "execution_count": 2,
      "outputs": [
        {
          "output_type": "stream",
          "name": "stdout",
          "text": [
            "The shortest path from A to G is: A -> C -> D -> E -> G\n"
          ]
        }
      ]
    },
    {
      "cell_type": "code",
      "source": [
        "# Q#3"
      ],
      "metadata": {
        "id": "pFvOSrStjmks"
      },
      "execution_count": null,
      "outputs": []
    },
    {
      "cell_type": "code",
      "source": [
        "from collections import deque\n",
        "\n",
        "# Define the goal state\n",
        "goal_state = (\n",
        "    (1, 2, 3),\n",
        "    (4, 5, 6),\n",
        "    (7, 8, None)\n",
        ")\n",
        "\n",
        "# Possible moves: up, down, left, right\n",
        "moves = [(-1, 0), (1, 0), (0, -1), (0, 1)]\n",
        "\n",
        "def is_goal(state):\n",
        "    return state == goal_state\n",
        "\n",
        "def get_neighbors(state):\n",
        "    neighbors = []\n",
        "    row, col = next((r, c) for r in range(3) for c in range(3) if state[r][c] is None)\n",
        "\n",
        "    for dr, dc in moves:\n",
        "        new_row, new_col = row + dr, col + dc\n",
        "        if 0 <= new_row < 3 and 0 <= new_col < 3:\n",
        "            # Create new state by swapping the empty space with the adjacent tile\n",
        "            new_state = list(list(row) for row in state)  # Deep copy\n",
        "            new_state[row][col], new_state[new_row][new_col] = new_state[new_row][new_col], new_state[row][col]\n",
        "            neighbors.append(tuple(tuple(r) for r in new_state))\n",
        "\n",
        "    return neighbors\n",
        "\n",
        "def bfs(initial_state):\n",
        "    queue = deque([(initial_state, [])])\n",
        "    visited = set()\n",
        "\n",
        "    while queue:\n",
        "        current_state, path = queue.popleft()\n",
        "\n",
        "        if is_goal(current_state):\n",
        "            return path\n",
        "\n",
        "        visited.add(current_state)\n",
        "\n",
        "        for neighbor in get_neighbors(current_state):\n",
        "            if neighbor not in visited:\n",
        "                queue.append((neighbor, path + [neighbor]))\n",
        "\n",
        "    return None  # No solution found\n",
        "\n",
        "if __name__ == \"__main__\":\n",
        "    # Initial state of the puzzle\n",
        "    initial_state = (\n",
        "        (1, 2, 3),\n",
        "        (4, 5, None),\n",
        "        (7, 8, 6)\n",
        "    )\n",
        "\n",
        "    solution = bfs(initial_state)\n",
        "\n",
        "    if solution:\n",
        "        print(\"Solution found:\")\n",
        "        for state in solution:\n",
        "            for row in state:\n",
        "                print(row)\n",
        "            print()\n",
        "    else:\n",
        "        print(\"No solution found.\")\n"
      ],
      "metadata": {
        "colab": {
          "base_uri": "https://localhost:8080/"
        },
        "id": "87DN31SajHQZ",
        "outputId": "26e59591-4070-4fb7-f129-fc76b35f6a7f"
      },
      "execution_count": 3,
      "outputs": [
        {
          "output_type": "stream",
          "name": "stdout",
          "text": [
            "Solution found:\n",
            "(1, 2, 3)\n",
            "(4, 5, 6)\n",
            "(7, 8, None)\n",
            "\n"
          ]
        }
      ]
    },
    {
      "cell_type": "code",
      "source": [
        "# Q#4"
      ],
      "metadata": {
        "id": "AAsqE6N1jpTa"
      },
      "execution_count": null,
      "outputs": []
    },
    {
      "cell_type": "code",
      "source": [
        "class Graph:\n",
        "    def __init__(self):\n",
        "        self.graph = {}\n",
        "\n",
        "    def add_edge(self, u, v, distance):\n",
        "        if u not in self.graph:\n",
        "            self.graph[u] = []\n",
        "        if v not in self.graph:\n",
        "            self.graph[v] = []\n",
        "        self.graph[u].append((v, distance))\n",
        "        self.graph[v].append((u, distance))  # For undirected graph\n",
        "\n",
        "    def dfs(self, start, goal, visited, path, total_distance):\n",
        "        visited.add(start)\n",
        "        path.append(start)\n",
        "\n",
        "        if start == goal:\n",
        "            return (path.copy(), total_distance)  # Return path and total distance\n",
        "\n",
        "        best_path = None\n",
        "        best_distance = float('inf')\n",
        "\n",
        "        for neighbor, distance in self.graph[start]:\n",
        "            if neighbor not in visited:\n",
        "                result = self.dfs(neighbor, goal, visited, path, total_distance + distance)\n",
        "                if result:\n",
        "                    current_path, current_distance = result\n",
        "                    if current_distance < best_distance:\n",
        "                        best_distance = current_distance\n",
        "                        best_path = current_path\n",
        "\n",
        "        path.pop()  # Backtrack\n",
        "        visited.remove(start)\n",
        "        return (best_path, best_distance)\n",
        "\n",
        "    def find_shortest_path(self, start, goal):\n",
        "        visited = set()\n",
        "        path = []\n",
        "        best_path, best_distance = self.dfs(start, goal, visited, path, 0)\n",
        "        return best_path, best_distance\n",
        "\n",
        "# Create the graph and find the shortest path from Arad to Bucharest\n",
        "if __name__ == \"__main__\":\n",
        "    g = Graph()\n",
        "    g.add_edge('Arad', 'Sibiu', 140)\n",
        "    g.add_edge('Arad', 'Timisoara', 118)\n",
        "    g.add_edge('Sibiu', 'Fagaras', 99)\n",
        "    g.add_edge('Sibiu', 'Rimnicu Vilcea', 80)\n",
        "    g.add_edge('Timisoara', 'Lugoj', 111)\n",
        "    g.add_edge('Lugoj', 'Mehadia', 75)\n",
        "    g.add_edge('Mehadia', 'Drobeta', 75)\n",
        "    g.add_edge('Drobeta', 'Craiova', 120)\n",
        "    g.add_edge('Craiova', 'Rimnicu Vilcea', 146)\n",
        "    g.add_edge('Fagaras', 'Bucharest', 211)\n",
        "    g.add_edge('Rimnicu Vilcea', 'Bucharest', 220)\n",
        "\n",
        "    start_city = 'Arad'\n",
        "    goal_city = 'Bucharest'\n",
        "\n",
        "    shortest_path, total_distance = g.find_shortest_path(start_city, goal_city)\n",
        "\n",
        "    if shortest_path:\n",
        "        print(f\"The shortest path from {start_city} to {goal_city} is: {' -> '.join(shortest_path)} with total distance: {total_distance} km\")\n",
        "    else:\n",
        "        print(f\"No path found from {start_city} to {goal_city}.\")\n"
      ],
      "metadata": {
        "colab": {
          "base_uri": "https://localhost:8080/"
        },
        "id": "0uClmvvJjWOo",
        "outputId": "2b4c95b8-5d19-40f1-cc0f-7a950062d5d5"
      },
      "execution_count": 4,
      "outputs": [
        {
          "output_type": "stream",
          "name": "stdout",
          "text": [
            "The shortest path from Arad to Bucharest is: Arad -> Sibiu -> Fagaras -> Bucharest with total distance: 450 km\n"
          ]
        }
      ]
    }
  ]
}